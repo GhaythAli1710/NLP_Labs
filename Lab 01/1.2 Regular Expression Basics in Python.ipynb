{
 "cells": [
  {
   "cell_type": "markdown",
   "metadata": {},
   "source": [
    "# Regular Expressions\n",
    "Source: https://www.sololearn.com/Course/Python/\n",
    "\n",
    "Regular expressions are a powerful tool for various kinds of *string manipulation*.\n",
    "They are a domain specific language (DSL) that is present as a library in most modern programming languages, not just Python.\n",
    "They are useful for **two main tasks**:\n",
    "- verifying that strings **match a pattern** (for instance, that a string has the format of an email address),\n",
    "- performing **substitutions** in a string (such as changing all American spellings to British ones)."
   ]
  },
  {
   "cell_type": "markdown",
   "metadata": {},
   "source": [
    "Regular expressions in Python can be accessed using the re module, which is part of the standard library"
   ]
  },
  {
   "cell_type": "code",
   "execution_count": 4,
   "metadata": {
    "scrolled": true
   },
   "outputs": [],
   "source": [
    "import re"
   ]
  },
  {
   "cell_type": "markdown",
   "metadata": {},
   "source": [
    "- To avoid any confusion while working with regular expressions, we would use raw strings as **r\"expression\"**.\n",
    "- Raw strings **don't escape** anything, which makes use of regular expressions easier."
   ]
  },
  {
   "cell_type": "code",
   "execution_count": 2,
   "metadata": {},
   "outputs": [
    {
     "name": "stdout",
     "output_type": "stream",
     "text": [
      "spam \\n\n"
     ]
    }
   ],
   "source": [
    "pattern = r'spam \\n'\n",
    "print(pattern)"
   ]
  },
  {
   "cell_type": "code",
   "execution_count": 3,
   "metadata": {},
   "outputs": [],
   "source": [
    "pattern = r'spam'\n",
    "text = 'spamspamspam'"
   ]
  },
  {
   "cell_type": "code",
   "execution_count": 4,
   "metadata": {
    "scrolled": true
   },
   "outputs": [
    {
     "name": "stdout",
     "output_type": "stream",
     "text": [
      "Match\n"
     ]
    }
   ],
   "source": [
    "if re.match(pattern, text):\n",
    "    print(\"Match\")\n",
    "else:\n",
    "    print(\"No match\")"
   ]
  },
  {
   "cell_type": "markdown",
   "metadata": {},
   "source": [
    "- The ***re.match*** function can be used to determine whether it matches at the **beginning of a string**.\n",
    "- If it does, match returns an *object* representing the match, if not, it returns *None*"
   ]
  },
  {
   "cell_type": "code",
   "execution_count": 5,
   "metadata": {},
   "outputs": [
    {
     "data": {
      "text/plain": [
       "<re.Match object; span=(0, 4), match='spam'>"
      ]
     },
     "execution_count": 5,
     "metadata": {},
     "output_type": "execute_result"
    }
   ],
   "source": [
    "re.match(pattern, \"spamspamspam\")"
   ]
  },
  {
   "cell_type": "markdown",
   "metadata": {},
   "source": [
    "- Other functions to match patterns are:\n",
    "    - The function **re.search** finds a match of a pattern *anywhere* in the string.\n",
    "    - The function **re.findall** returns *a list* of all substrings that match a pattern.\n",
    "    - The function **re.finditer** does the same thing as re.findall, except it returns an *iterator*, rather than a list."
   ]
  },
  {
   "cell_type": "code",
   "execution_count": 5,
   "metadata": {},
   "outputs": [
    {
     "name": "stdout",
     "output_type": "stream",
     "text": [
      "No Match\n",
      "Match\n",
      "['spam', 'spam']\n",
      "<callable_iterator object at 0x7f2fa8e0ddf0>\n",
      "<re.Match object; span=(3, 7), match='spam'>\n",
      "<re.Match object; span=(14, 18), match='spam'>\n"
     ]
    }
   ],
   "source": [
    "pattern = r\"spam\"\n",
    "text = \"eggspamsausagespam\"\n",
    "# CODE HERE : use match, search findall and finditer for this pattern and text\n",
    "if re.match(pattern,text):\n",
    "    print(\"Match\")\n",
    "else:\n",
    "    print(\"No Match\")\n",
    "if re.search(pattern,text):\n",
    "    print(\"Match\")\n",
    "else:\n",
    "    print(\"No Match\")\n",
    "print(re.findall(pattern,text))\n",
    "print(re.finditer(pattern,text))\n",
    "for m in re.finditer(pattern,text):\n",
    "    print(m)"
   ]
  },
  {
   "cell_type": "markdown",
   "metadata": {},
   "source": [
    "The regex search returns an object with ***several methods*** that give details about it.\n",
    "- **group** which returns the string matched, \n",
    "- **start** and **end** which return the start and ending positions of the first match, \n",
    "- **span** which returns the start and end positions of the first match as a *tuple*."
   ]
  },
  {
   "cell_type": "code",
   "execution_count": 7,
   "metadata": {},
   "outputs": [
    {
     "name": "stdout",
     "output_type": "stream",
     "text": [
      "pam\n",
      "4\n",
      "7\n",
      "(4, 7)\n"
     ]
    }
   ],
   "source": [
    "pattern = r\"pam\"\n",
    "match = re.search(pattern, \"eggspamsausage\")\n",
    "if match:\n",
    "    print(match.group())\n",
    "    print(match.start())\n",
    "    print(match.end())\n",
    "    print(match.span())"
   ]
  },
  {
   "cell_type": "markdown",
   "metadata": {},
   "source": [
    "## Search & Replace\n",
    ">re.sub(pattern, repl, string, max=0)<br>\n",
    "\n",
    "This method replaces all occurrences of the pattern in string with other string, substituting all occurrences, unless max provided. This method returns the modified string."
   ]
  },
  {
   "cell_type": "code",
   "execution_count": 8,
   "metadata": {},
   "outputs": [
    {
     "name": "stdout",
     "output_type": "stream",
     "text": [
      "My name is Amy. Hi Amy.\n"
     ]
    }
   ],
   "source": [
    "text = \"My name is David. Hi David.\"\n",
    "pattern = r\"David\"\n",
    "\n",
    "#CODE HERE: substitute David with Amy in text\n",
    "print(re.sub(pattern,\"Amy\", text))"
   ]
  },
  {
   "cell_type": "markdown",
   "metadata": {},
   "source": [
    "# Metacharacters\n",
    "metacharacters, and don’t match themselves. Instead, they signal that some out-of-the-ordinary thing should be matched, or they affect other portions of the RE by repeating them or changing their meaning.\n",
    "> . ^ $ * + ? { } [ ] \\ | ( )\n",
    "\n",
    "\n",
    "The existence of metacharacters poses a problem if you want to create a regular expression (or regex) that *matches a literal metacharacter*, such as \"$\". You can do this by escaping the metacharacters by putting a backslash in front of them.<br>\n",
    "However, this can cause problems, since backslashes also have an escaping function in normal Python strings. This can mean putting *three or four backslashes in a row* to do all the escaping.\n",
    "To avoid this, you can use a raw string, which is a normal string with an **\"r\"** in front of it.."
   ]
  },
  {
   "cell_type": "markdown",
   "metadata": {},
   "source": [
    "## dot .\n",
    "The first metacharacter we will look at is . (dot).\n",
    "This matches any character, other than a new line."
   ]
  },
  {
   "cell_type": "code",
   "execution_count": 29,
   "metadata": {},
   "outputs": [
    {
     "name": "stdout",
     "output_type": "stream",
     "text": [
      "Match 1\n",
      "Match 2\n",
      "Match 4\n"
     ]
    }
   ],
   "source": [
    "pattern = r\"gr.y\"\n",
    "if re.match(pattern, \"grey\"):\n",
    "    print(\"Match 1\")\n",
    "if re.match(pattern, \"gray\"):\n",
    "    print(\"Match 2\")\n",
    "if re.match(pattern, \"blue\"):\n",
    "    print(\"Match 3\")\n",
    "if re.match(pattern, \"gr y\"):\n",
    "    print(\"Match 4\")\n",
    "if re.match(pattern, \"greeey\"):\n",
    "    print(\"Match 5\")"
   ]
  },
  {
   "cell_type": "markdown",
   "metadata": {},
   "source": [
    "## ^ and \\$\n",
    "- start of string : ^ \n",
    "- end of string : $"
   ]
  },
  {
   "cell_type": "code",
   "execution_count": 11,
   "metadata": {},
   "outputs": [
    {
     "name": "stdout",
     "output_type": "stream",
     "text": [
      "Match 1\n",
      "Match 2\n"
     ]
    }
   ],
   "source": [
    "#CODE HERE: write a pattern that matches only the words grey or gary alone in the sentence\n",
    "pattern = r\"^g..y$\"\n",
    "if re.search(pattern, \"grey\"):\n",
    "    print(\"Match 1\")\n",
    "if re.search(pattern, \"gary\"):\n",
    "    print(\"Match 2\")\n",
    "if re.search(pattern, \"stingray\"):\n",
    "    print(\"Match 3\")"
   ]
  },
  {
   "cell_type": "markdown",
   "metadata": {},
   "source": [
    "### Character Classes:\n",
    "Character classes provide a way to match only one of a specific set of characters.<br>\n",
    "A character class is created by putting the characters it matches inside **square brackets**."
   ]
  },
  {
   "cell_type": "code",
   "execution_count": 11,
   "metadata": {},
   "outputs": [
    {
     "name": "stdout",
     "output_type": "stream",
     "text": [
      "Match 1\n",
      "Match 2\n"
     ]
    }
   ],
   "source": [
    "pattern = r\"[aeiou]\"\n",
    "if re.search(pattern, \"grey\"):\n",
    "    print(\"Match 1\")\n",
    "if re.search(pattern, \"qwertyuiop\"):\n",
    "    print(\"Match 2\")\n",
    "if re.search(pattern, \"rhythm myths\"):\n",
    "    print(\"Match 3\")\n"
   ]
  },
  {
   "cell_type": "markdown",
   "metadata": {},
   "source": [
    "Character classes can also match **ranges of characters.**\n",
    "Some examples:\n",
    "- The class **\\[a-z\\]** matches any lowercase alphabetic character.\n",
    "- The class **\\[G-P\\]** matches any uppercase character from G to P.\n",
    "- The class **\\[0-9\\]** matches any digit.\n",
    "- Multiple ranges can be included in one class. For example, **\\[A-Za-z\\]** matches a letter of any case"
   ]
  },
  {
   "cell_type": "code",
   "execution_count": 13,
   "metadata": {},
   "outputs": [
    {
     "name": "stdout",
     "output_type": "stream",
     "text": [
      "Match 1\n"
     ]
    }
   ],
   "source": [
    "#CODE HERE: write a pattern that matches two uppercase characters followed by a single digit\n",
    "pattern = r\"[A-Z][A-Z][0-9]\"\n",
    "if re.search(pattern, \"LS8\"):\n",
    "    print(\"Match 1\")\n",
    "if re.search(pattern, \"E3\"):\n",
    "    print(\"Match 2\")\n",
    "if re.search(pattern, \"1ab\"):\n",
    "    print(\"Match 3\")  "
   ]
  },
  {
   "cell_type": "markdown",
   "metadata": {},
   "source": [
    "Place a **^** at the start of a character class to invert it.<br>\n",
    "This causes it to match any character **other than** the ones included.<br>\n",
    "\n",
    "Other metacharacters such as $ and ., have *no meaning* within character classes.<br>\n",
    "The metacharacter ^ has no meaning unless it is the *first character* in a class."
   ]
  },
  {
   "cell_type": "code",
   "execution_count": 4,
   "metadata": {},
   "outputs": [
    {
     "name": "stdout",
     "output_type": "stream",
     "text": [
      "Match 1\n",
      "Match 2\n"
     ]
    }
   ],
   "source": [
    "pattern = r\"[^A-Z]\"\n",
    "if re.search(pattern, \"this is all quiet\"):\n",
    "    print(\"Match 1\")\n",
    "if re.search(pattern, \"AbCdEfG123\"):\n",
    "    print(\"Match 2\")\n",
    "if re.search(pattern, \"THISISALLSHOUTING\"):\n",
    "    print(\"Match 3\")"
   ]
  },
  {
   "cell_type": "code",
   "execution_count": 12,
   "metadata": {},
   "outputs": [
    {
     "name": "stdout",
     "output_type": "stream",
     "text": [
      "Match 1\n"
     ]
    }
   ],
   "source": [
    "pattern = r\"^[^A-Z]\"\n",
    "if re.search(pattern, \"this is all quiet\"):\n",
    "    print(\"Match 1\")\n",
    "if re.search(pattern, \"AbCdEfG123\"):\n",
    "    print(\"Match 2\")\n",
    "if re.search(pattern, \"THISISALLSHOUTING\"):\n",
    "    print(\"Match 3\")"
   ]
  },
  {
   "cell_type": "markdown",
   "metadata": {},
   "source": [
    "## *, +, ?, { and }.\n",
    "These specify **numbers of repetitions**.<br>\n",
    "\n",
    "The metacharacter **star *** means **zero or more** repetitions of the *previous* thing\". It tries to match *as\n",
    "many repetitions as possible*.<br> The \"previous thing\" can be a single character, a class, or a group\n",
    "of characters in parentheses"
   ]
  },
  {
   "cell_type": "code",
   "execution_count": 16,
   "metadata": {},
   "outputs": [
    {
     "name": "stdout",
     "output_type": "stream",
     "text": [
      "Match 1\n",
      "Match 2\n"
     ]
    }
   ],
   "source": [
    "#CODE HERE: write a pattern that matches the word egg followed by zero or more spam\n",
    "pattern = r\"egg(spam)*\"\n",
    "if re.match(pattern, \"egg\"):\n",
    "    print(\"Match 1\")\n",
    "if re.match(pattern, \"eggspamspamegg\"):\n",
    "    print(\"Match 2\")\n",
    "if re.match(pattern, \"spam\"):\n",
    "    print(\"Match 3\")"
   ]
  },
  {
   "cell_type": "markdown",
   "metadata": {},
   "source": [
    "The metacharacter **+** is very similar to *, except it means **\"one or more repetitions\"**"
   ]
  },
  {
   "cell_type": "code",
   "execution_count": 32,
   "metadata": {},
   "outputs": [
    {
     "name": "stdout",
     "output_type": "stream",
     "text": [
      "Match 1\n",
      "Match 2\n"
     ]
    }
   ],
   "source": [
    "pattern = r\"g+\"\n",
    "if re.match(pattern, \"g\"):\n",
    "    print(\"Match 1\")\n",
    "if re.match(pattern, \"gggggggggggggg\"):\n",
    "    print(\"Match 2\")\n",
    "if re.match(pattern, \"abc\"):\n",
    "    print(\"Match 3\")"
   ]
  },
  {
   "cell_type": "markdown",
   "metadata": {},
   "source": [
    "The metacharacter **?** means **\"zero or one repetitions\"**"
   ]
  },
  {
   "cell_type": "code",
   "execution_count": 33,
   "metadata": {},
   "outputs": [
    {
     "name": "stdout",
     "output_type": "stream",
     "text": [
      "Match 1\n",
      "Match 2\n"
     ]
    }
   ],
   "source": [
    "#CODE HERE: write a pattern that matches the word ice-cream or icecream\n",
    "pattern = r\"ice(-)?cream\"\n",
    "if re.match(pattern, \"ice-cream\"):\n",
    "    print(\"Match 1\")\n",
    "if re.match(pattern, \"icecream\"):\n",
    "    print(\"Match 2\")\n",
    "if re.match(pattern, \"sausages\"):\n",
    "    print(\"Match 3\")\n",
    "if re.match(pattern, \"ice--ice\"):\n",
    "    print(\"Match 4\")    "
   ]
  },
  {
   "cell_type": "markdown",
   "metadata": {},
   "source": [
    "**Curly braces { }**  can be used to represent the **number of repetitions** between two numbers.<br>\n",
    "The regex {x,y} means \"between x and y repetitions of something\".<br>\n",
    "Hence {0,1} is the same thing as ?.<br>\n",
    "If the first number is missing, it is taken to be zero. If the second number is missing, it is taken to be infinity."
   ]
  },
  {
   "cell_type": "code",
   "execution_count": 7,
   "metadata": {},
   "outputs": [
    {
     "name": "stdout",
     "output_type": "stream",
     "text": [
      "Match 1\n",
      "Match 2\n"
     ]
    }
   ],
   "source": [
    "#CODE HERE: write a pattern that matches one to three nines at the end of a string\n",
    "pattern = r\"9{1,3}$\"\n",
    "if re.match(pattern, \"9\"):\n",
    "    print(\"Match 1\")\n",
    "if re.match(pattern, \"999\"):\n",
    "    print(\"Match 2\")\n",
    "if re.match(pattern, \"9999\"):\n",
    "    print(\"Match 3\")"
   ]
  },
  {
   "cell_type": "code",
   "execution_count": 14,
   "metadata": {},
   "outputs": [
    {
     "name": "stdout",
     "output_type": "stream",
     "text": [
      "Match 2\n",
      "Match 3\n"
     ]
    }
   ],
   "source": [
    "pattern = r\"9{2,}$\"\n",
    "if re.match(pattern, \"9\"):\n",
    "    print(\"Match 1\")\n",
    "if re.match(pattern, \"999\"):\n",
    "    print(\"Match 2\")\n",
    "if re.match(pattern, \"9999\"):\n",
    "    print(\"Match 3\")"
   ]
  },
  {
   "cell_type": "markdown",
   "metadata": {},
   "source": [
    "## Groups\n",
    "A group can be created by surrounding part of a regular expression with **parentheses ()**.<br>\n",
    "This means that a group can be given as an argument to metacharacters such as * and ?"
   ]
  },
  {
   "cell_type": "code",
   "execution_count": 8,
   "metadata": {},
   "outputs": [
    {
     "name": "stdout",
     "output_type": "stream",
     "text": [
      "Match 1\n",
      "Match 2\n"
     ]
    }
   ],
   "source": [
    "pattern = r\"egg(spam)*\"\n",
    "if re.match(pattern, \"egg\"):\n",
    "    print(\"Match 1\")\n",
    "if re.match(pattern, \"eggspamspamspamegg\"):\n",
    "    print(\"Match 2\")\n",
    "if re.match(pattern, \"spam\"):\n",
    "    print(\"Match 3\")"
   ]
  },
  {
   "cell_type": "markdown",
   "metadata": {},
   "source": [
    "The content of groups in a match can be accessed using the **group function**.<br>\n",
    "- A call of *group(0) or group()* returns the whole match.\n",
    "- A call of *group(n)*, where n is greater than 0, returns the nth group from the left.\n",
    "- The method *groups()* returns all groups up from 1"
   ]
  },
  {
   "cell_type": "code",
   "execution_count": 40,
   "metadata": {},
   "outputs": [
    {
     "name": "stdout",
     "output_type": "stream",
     "text": [
      "abcdefghi\n",
      "abcdefghi\n",
      "bc\n",
      "de\n",
      "fgh\n",
      "g\n",
      "('bc', 'de', 'fgh', 'g')\n"
     ]
    }
   ],
   "source": [
    "pattern = r\"a(bc)(de)(f(g)h)i\"\n",
    "match = re.match(pattern, \"abcdefghijklmnop\")\n",
    "if match:\n",
    "    print(match.group())\n",
    "    print(match.group(0))\n",
    "    print(match.group(1))\n",
    "    print(match.group(2))\n",
    "    print(match.group(3))\n",
    "    print(match.group(4))\n",
    "\n",
    "    print(match.groups())"
   ]
  },
  {
   "cell_type": "markdown",
   "metadata": {},
   "source": [
    "### Named groups & Non-capturing groups\n",
    "- Named groups have the format **(?P< name \\> ...)**,\n",
    "where name is the name of the group, and ... is the content.<br>\n",
    "They behave exactly the same as normal groups, except they can be **accessed by group(name)** in addition to its number.\n",
    "<br>\n",
    "- Non-capturing groups have the format **(?:...)**.<br> \n",
    "They are **not accessible** by the group method,so they can be added to an existing regular expression without breaking the numbering"
   ]
  },
  {
   "cell_type": "code",
   "execution_count": 11,
   "metadata": {
    "scrolled": true
   },
   "outputs": [
    {
     "name": "stdout",
     "output_type": "stream",
     "text": [
      "abc\n",
      "abc\n",
      "ghi\n",
      "('abc', 'ghi')\n"
     ]
    }
   ],
   "source": [
    "pattern = r\"(?P<first>abc)(?:def)(ghi)\"\n",
    "match = re.match(pattern, \"abcdefghi\")\n",
    "if match:\n",
    "    #CODE HERE: print \"first\" group\n",
    "    print(match.group(\"first\"))\n",
    "    #CODE HERE: print the first group\n",
    "    print(match.group(1))\n",
    "    #CODE HERE: print the second group\n",
    "    print(match.group(2))\n",
    "    print(match.groups())"
   ]
  },
  {
   "cell_type": "markdown",
   "metadata": {},
   "source": [
    "### | or metacharacter"
   ]
  },
  {
   "cell_type": "code",
   "execution_count": 15,
   "metadata": {},
   "outputs": [
    {
     "name": "stdout",
     "output_type": "stream",
     "text": [
      "Match 1\n",
      "Match 2\n"
     ]
    }
   ],
   "source": [
    "pattern = r\"gr(a|e)y\"\n",
    "match = re.match(pattern, \"gray\")\n",
    "\n",
    "if match:\n",
    "    print (\"Match 1\")\n",
    "match = re.match(pattern, \"grey\")\n",
    "if match:\n",
    "    print (\"Match 2\")\n",
    "match = re.match(pattern, \"griy\")\n",
    "if match:\n",
    "    print (\"Match 3\")"
   ]
  },
  {
   "cell_type": "markdown",
   "metadata": {},
   "source": [
    "# Special Sequences\n",
    "There are various special sequences you can use in regular expressions. They are written as a **backslash followed by another character**.<br>\n",
    "\n",
    "One useful special sequence is a backslash and a number between 1 and 99, e.g., \\1 or \\17.<br>\n",
    "This matches the *expression of the group of that number*."
   ]
  },
  {
   "cell_type": "code",
   "execution_count": 31,
   "metadata": {},
   "outputs": [
    {
     "name": "stdout",
     "output_type": "stream",
     "text": [
      "Match 1\n",
      "Match 2\n"
     ]
    }
   ],
   "source": [
    "#CODE HERE: write a pattern that matches the same word twice\n",
    "pattern = r\"(.*) \\1\"\n",
    "match = re.match(pattern, \"word word\")\n",
    "if match:\n",
    "    print (\"Match 1\")\n",
    "match = re.match(pattern, \"?! ?!\")\n",
    "if match:\n",
    "    print (\"Match 2\")\n",
    "match = re.match(pattern, \"abc cde\")\n",
    "if match:\n",
    "    print (\"Match 3\")"
   ]
  },
  {
   "cell_type": "markdown",
   "metadata": {},
   "source": [
    "More useful special sequences are\n",
    "- **\\d** : match digits = [0-9]\n",
    "- **\\s** : match whitespace = [ \\t\\n\\r\\f\\v]\n",
    "- **\\w** : match word characters = [a-zA-Z0-9_]\n",
    "\n",
    "In Unicode mode they match certain other characters, as well. For instance, \\w matches letters\n",
    "with accents.\n",
    "\n",
    "Versions of these special sequences with upper case letters **\\D, \\S**, and **\\W** - mean the **opposite** to the lower-case versions. For instance, \\D matches anything that isn't a digit."
   ]
  },
  {
   "cell_type": "code",
   "execution_count": 15,
   "metadata": {},
   "outputs": [
    {
     "name": "stdout",
     "output_type": "stream",
     "text": [
      "Match 1\n"
     ]
    }
   ],
   "source": [
    "#CODE HERE: write a pattern that matches one or more non-digits followed by a digit\n",
    "pattern = r\"\\D+\\d\" \n",
    "match = re.match(pattern, \"Hi 999!\") \n",
    "if match:\n",
    "    print(\"Match 1\")\n",
    "match = re.match(pattern, \"1, 23, 456!\")\n",
    "if match:\n",
    "    print(\"Match 2\")\n",
    "match = re.match(pattern, \" ! $?\")\n",
    "if match:\n",
    "    print(\"Match 3\")"
   ]
  },
  {
   "cell_type": "markdown",
   "metadata": {},
   "source": [
    "Additional special sequences are\n",
    "- The sequences **\\A** and **\\Z** match the beginning and end of a string, respectively. (^ and $ will only match up until a newline character)\n",
    "- The sequence **\\b** matches the empty string between \\w and \\W characters, or \\w characters and the beginning or end of the string. Informally, it represents the boundary between words.\n",
    "The sequence **\\B** matches the empty string anywhere else."
   ]
  },
  {
   "cell_type": "code",
   "execution_count": 17,
   "metadata": {},
   "outputs": [
    {
     "name": "stdout",
     "output_type": "stream",
     "text": [
      "Match 1\n",
      "Match 2\n",
      "Match 4\n"
     ]
    }
   ],
   "source": [
    "#CODE HERE: write a pattern that matches the word \"cat\" surrounded by word boundaries\n",
    "pattern = r\"\\bcat\\b\"\n",
    "match = re.search(pattern, \"The cat sat!\")\n",
    "if match:\n",
    "    print (\"Match 1\")\n",
    "    \n",
    "match = re.search(pattern, \"We s>cat<tered?\")\n",
    "if match:\n",
    "    print (\"Match 2\")\n",
    "match = re.search(pattern, \"We scattered.\")\n",
    "if match:\n",
    "    print (\"Match 3\")\n",
    "match = re.search(pattern, \"cat sat.\")\n",
    "if match:\n",
    "    print (\"Match 4\")"
   ]
  },
  {
   "cell_type": "code",
   "execution_count": null,
   "metadata": {},
   "outputs": [],
   "source": []
  }
 ],
 "metadata": {
  "kernelspec": {
   "display_name": "Python 3 (ipykernel)",
   "language": "python",
   "name": "python3"
  },
  "language_info": {
   "codemirror_mode": {
    "name": "ipython",
    "version": 3
   },
   "file_extension": ".py",
   "mimetype": "text/x-python",
   "name": "python",
   "nbconvert_exporter": "python",
   "pygments_lexer": "ipython3",
   "version": "3.9.13"
  }
 },
 "nbformat": 4,
 "nbformat_minor": 2
}
