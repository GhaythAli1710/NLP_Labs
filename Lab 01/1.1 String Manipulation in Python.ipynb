{
 "cells": [
  {
   "cell_type": "markdown",
   "metadata": {},
   "source": [
    "# String Manipulation in Python\n",
    "\n",
    "A string is a list of characters in order. \n",
    "\n",
    "A character is anything you can type on the keyboard in one keystroke,\n",
    "like a letter, a number, or a backslash. \n",
    "\n",
    "Strings can have spaces: \"hello world\". \n",
    "\n",
    "An empty string is a string that has 0 characters.\n",
    "\n",
    "Python strings are immutable\n",
    "\n",
    "Python recognize as strings everything that is delimited by quotation marks\n",
    "(\" \" or ' ')."
   ]
  },
  {
   "cell_type": "markdown",
   "metadata": {},
   "source": [
    "## String Manipulation\n",
    "To manipulate strings, we can use some of Pythons built-in methods."
   ]
  },
  {
   "cell_type": "markdown",
   "metadata": {},
   "source": [
    "### Creation"
   ]
  },
  {
   "cell_type": "code",
   "execution_count": 1,
   "metadata": {},
   "outputs": [
    {
     "name": "stdout",
     "output_type": "stream",
     "text": [
      "Hello World\n"
     ]
    }
   ],
   "source": [
    "word = \"Hello World\"\n",
    "print(word)"
   ]
  },
  {
   "cell_type": "markdown",
   "metadata": {},
   "source": [
    "### Accessing\n",
    "Use [ ] to access characters in a string"
   ]
  },
  {
   "cell_type": "code",
   "execution_count": 2,
   "metadata": {},
   "outputs": [
    {
     "name": "stdout",
     "output_type": "stream",
     "text": [
      "H\n"
     ]
    }
   ],
   "source": [
    "word = \"Hello World\"\n",
    "letter = word[0]\n",
    "print(letter)"
   ]
  },
  {
   "cell_type": "markdown",
   "metadata": {},
   "source": [
    "### Length"
   ]
  },
  {
   "cell_type": "code",
   "execution_count": 3,
   "metadata": {},
   "outputs": [
    {
     "data": {
      "text/plain": [
       "11"
      ]
     },
     "execution_count": 3,
     "metadata": {},
     "output_type": "execute_result"
    }
   ],
   "source": [
    "word = \"Hello World\"\n",
    "len(word)"
   ]
  },
  {
   "cell_type": "markdown",
   "metadata": {},
   "source": [
    "### Finding"
   ]
  },
  {
   "cell_type": "code",
   "execution_count": 3,
   "metadata": {},
   "outputs": [
    {
     "name": "stdout",
     "output_type": "stream",
     "text": [
      "3\n",
      "0\n",
      "0\n"
     ]
    }
   ],
   "source": [
    "word = \"Hello World\"\n",
    "\n",
    "print(word.count('l')) # count how many times l is in the string\n",
    "print(word.find(\"H\")) # find the word H in the string\n",
    "print(word.index(\"World\"))# find the letters World in the string"
   ]
  },
  {
   "cell_type": "markdown",
   "metadata": {},
   "source": [
    "### Count"
   ]
  },
  {
   "cell_type": "code",
   "execution_count": 5,
   "metadata": {},
   "outputs": [
    {
     "name": "stdout",
     "output_type": "stream",
     "text": [
      "8\n"
     ]
    }
   ],
   "source": [
    "s =  \"Count, the number     of spaces\"\n",
    "print(s.count(' '))"
   ]
  },
  {
   "cell_type": "markdown",
   "metadata": {},
   "source": [
    "### Slicing\n",
    "Use [ # : # ] to get set of letter\n",
    "\n",
    "Keep in mind that python, as many other languages, starts to count from 0!! "
   ]
  },
  {
   "cell_type": "code",
   "execution_count": 6,
   "metadata": {},
   "outputs": [
    {
     "name": "stdout",
     "output_type": "stream",
     "text": [
      "H\n",
      "H\n",
      "Hel\n",
      "Hel\n",
      "rld\n",
      "lo World\n",
      "Hello Wo\n",
      "HloWrd\n"
     ]
    }
   ],
   "source": [
    "word = \"Hello World\"\n",
    "\n",
    "print(word[0])          #get one char of the word\n",
    "print(word[0:1])        #get one char of the word (same as above)\n",
    "print(word[0:3])        #get the first three char\n",
    "print(word[:3])         #get the first three char\n",
    "print(word[-3:])        #get the last three char\n",
    "print(word[3:])         #get all but the three first char\n",
    "print(word[:-3])        #get all but the three last character\n",
    "print(word[::2])        #Skipping letters with a step of 2"
   ]
  },
  {
   "cell_type": "code",
   "execution_count": 7,
   "metadata": {},
   "outputs": [
    {
     "name": "stdout",
     "output_type": "stream",
     "text": [
      "irarref\n"
     ]
    }
   ],
   "source": [
    "# To reverse a string using the slice syntax\n",
    "my_string = \"ferrari\"\n",
    "my_string_reversed = my_string[::-1]\n",
    "print(my_string_reversed)"
   ]
  },
  {
   "cell_type": "markdown",
   "metadata": {},
   "source": [
    "### Split Strings"
   ]
  },
  {
   "cell_type": "code",
   "execution_count": 8,
   "metadata": {},
   "outputs": [
    {
     "data": {
      "text/plain": [
       "['Hello', 'World']"
      ]
     },
     "execution_count": 8,
     "metadata": {},
     "output_type": "execute_result"
    }
   ],
   "source": [
    "word = \"Hello World\"\n",
    "word.split(' ')  # Split on whitespace"
   ]
  },
  {
   "cell_type": "markdown",
   "metadata": {},
   "source": [
    "### Startswith / Endswith"
   ]
  },
  {
   "cell_type": "code",
   "execution_count": 9,
   "metadata": {},
   "outputs": [
    {
     "name": "stdout",
     "output_type": "stream",
     "text": [
      "False\n",
      "True\n",
      "False\n"
     ]
    }
   ],
   "source": [
    "word = \"hello world\"\n",
    "print(word.startswith(\"H\"))\n",
    "print(word.endswith(\"d\"))\n",
    "print(word.endswith(\"w\"))"
   ]
  },
  {
   "cell_type": "markdown",
   "metadata": {},
   "source": [
    "### Repeat Strings"
   ]
  },
  {
   "cell_type": "code",
   "execution_count": 10,
   "metadata": {},
   "outputs": [
    {
     "name": "stdout",
     "output_type": "stream",
     "text": [
      "..........\n"
     ]
    }
   ],
   "source": [
    "print(\".\"* 10) # prints ten dots"
   ]
  },
  {
   "cell_type": "markdown",
   "metadata": {},
   "source": [
    "### Replacing"
   ]
  },
  {
   "cell_type": "code",
   "execution_count": 11,
   "metadata": {},
   "outputs": [
    {
     "data": {
      "text/plain": [
       "'Goodbye World'"
      ]
     },
     "execution_count": 11,
     "metadata": {},
     "output_type": "execute_result"
    }
   ],
   "source": [
    "word = \"Hello World\"\n",
    "word.replace(\"Hello\", \"Goodbye\")"
   ]
  },
  {
   "cell_type": "markdown",
   "metadata": {},
   "source": [
    "### Changing Upper and Lower Case Strings"
   ]
  },
  {
   "cell_type": "code",
   "execution_count": 12,
   "metadata": {},
   "outputs": [
    {
     "name": "stdout",
     "output_type": "stream",
     "text": [
      "HELLO WORLD\n",
      "hello world\n",
      "Hello World\n",
      "Hello world\n",
      "hELLO wORLD\n"
     ]
    }
   ],
   "source": [
    "string = \"Hello World\"\n",
    "print(string.upper())\n",
    "print(string.lower())\n",
    "print(string.title())\n",
    "print(string.capitalize())\n",
    "print(string.swapcase())"
   ]
  },
  {
   "cell_type": "markdown",
   "metadata": {},
   "source": [
    "### Strip off newline characters from end of the string\n",
    "strip()     #removes from both ends\n",
    "lstrip()    #removes leading characters (Left-strip)\n",
    "rstrip()    #removes trailing characters (Right-strip)"
   ]
  },
  {
   "cell_type": "code",
   "execution_count": 13,
   "metadata": {},
   "outputs": [
    {
     "name": "stdout",
     "output_type": "stream",
     "text": [
      "    xyz    \n",
      "xyz\n",
      "xyz    \n",
      "    xyz\n"
     ]
    }
   ],
   "source": [
    "word = \"    xyz    \"\n",
    "print(word)\n",
    "print(word.strip())\n",
    "print(word.lstrip())\n",
    "print(word.rstrip())"
   ]
  },
  {
   "cell_type": "code",
   "execution_count": 8,
   "metadata": {},
   "outputs": [
    {
     "name": "stdout",
     "output_type": "stream",
     "text": [
      "This is a regular text.$@G#\n",
      "This is a regular text\n"
     ]
    }
   ],
   "source": [
    "regular_text = \"This is a regular text.$@G#\"\n",
    "\n",
    "clean_end_text = regular_text.rstrip(\"$G#@\")\n",
    "\n",
    "print(regular_text)\n",
    "print(clean_end_text)"
   ]
  },
  {
   "cell_type": "code",
   "execution_count": 11,
   "metadata": {},
   "outputs": [
    {
     "name": "stdout",
     "output_type": "stream",
     "text": [
      "AbC#This is a regular text.$@G#\n",
      "This is a regular text.\n"
     ]
    }
   ],
   "source": [
    "regular_text = \"AbC#This is a regular text.$@G#\"\n",
    "\n",
    "clean_text = regular_text.strip(\"AbC#$@G\")\n",
    "\n",
    "print(regular_text)\n",
    "print(clean_text)"
   ]
  },
  {
   "cell_type": "markdown",
   "metadata": {},
   "source": [
    "### Concatenation\n",
    "To concatenate strings in Python use the \"+\" operator. "
   ]
  },
  {
   "cell_type": "code",
   "execution_count": 16,
   "metadata": {},
   "outputs": [
    {
     "name": "stdout",
     "output_type": "stream",
     "text": [
      "Hello World\n",
      "Hello World!\n"
     ]
    }
   ],
   "source": [
    "print(\"Hello \" + \"World\")\n",
    "print(\"Hello \" + \"World\" + \"!\")"
   ]
  },
  {
   "cell_type": "markdown",
   "metadata": {},
   "source": [
    "### Join\n",
    "The join() method provides a flexible way to concatenate string. It concatenates each element of an iterable (such as list, string and tuple) to the string and returns the concatenated string.\n",
    "\n",
    "The syntax of join() is:\n",
    "\n",
    "string.join(iterable)"
   ]
  },
  {
   "cell_type": "code",
   "execution_count": 17,
   "metadata": {},
   "outputs": [
    {
     "name": "stdout",
     "output_type": "stream",
     "text": [
      "h:e:l:l:o: :w:o:r:d\n"
     ]
    }
   ],
   "source": [
    "word = \"hello word\"\n",
    "print(\":\".join(word))  # #add a : between every char"
   ]
  },
  {
   "cell_type": "code",
   "execution_count": 18,
   "metadata": {},
   "outputs": [
    {
     "name": "stdout",
     "output_type": "stream",
     "text": [
      "1, 2, 3, 4\n",
      "<class 'str'>\n"
     ]
    }
   ],
   "source": [
    "numList = ['1', '2', '3', '4']\n",
    "seperator = ', '\n",
    "print(seperator.join(numList))\n",
    "print(type(seperator.join(numList)))"
   ]
  },
  {
   "cell_type": "code",
   "execution_count": 19,
   "metadata": {},
   "outputs": [
    {
     "data": {
      "text/plain": [
       "'this is the best class ever'"
      ]
     },
     "execution_count": 19,
     "metadata": {},
     "output_type": "execute_result"
    }
   ],
   "source": [
    "sentence = [\"this\", \"is\", \"the\", \"best\", \"class\", \"ever\"]\n",
    "\" \".join(sentence)"
   ]
  },
  {
   "cell_type": "markdown",
   "metadata": {},
   "source": [
    "### Center"
   ]
  },
  {
   "cell_type": "code",
   "execution_count": 20,
   "metadata": {},
   "outputs": [
    {
     "name": "stdout",
     "output_type": "stream",
     "text": [
      "beach\n",
      "             beach              \n"
     ]
    }
   ],
   "source": [
    "word = 'beach'\n",
    "number_spaces = 32\n",
    "\n",
    "word_centered = word.center(number_spaces)\n",
    "\n",
    "print(word)\n",
    "print(word_centered)"
   ]
  },
  {
   "cell_type": "code",
   "execution_count": 21,
   "metadata": {},
   "outputs": [
    {
     "name": "stdout",
     "output_type": "stream",
     "text": [
      "beach\n",
      "$$$$$$$$$$$$$$beach$$$$$$$$$$$$$$\n"
     ]
    }
   ],
   "source": [
    "word = 'beach'\n",
    "number_chars = 33\n",
    "char = '$'\n",
    "\n",
    "word_centered = word.center(number_chars, char)\n",
    "\n",
    "print(word)\n",
    "print(word_centered)"
   ]
  },
  {
   "cell_type": "markdown",
   "metadata": {},
   "source": [
    "### Testing\n",
    "A string in Python can be tested for truth value. \n",
    "\n",
    "The return type will be in Boolean value (True or False)"
   ]
  },
  {
   "cell_type": "code",
   "execution_count": 13,
   "metadata": {},
   "outputs": [
    {
     "name": "stdout",
     "output_type": "stream",
     "text": [
      "False\n",
      "False\n",
      "False\n",
      "True\n",
      "False\n",
      "False\n",
      "False\n",
      "True\n",
      "True\n"
     ]
    }
   ],
   "source": [
    "word = \"Hello World\"\n",
    " \n",
    "print(word.isalnum())         #check if all char are alphanumeric \n",
    "print(word.isalpha())         #check if all char in the string are alphabetic\n",
    "print(word.isdigit())         #test if string contains digits\n",
    "print(word.istitle())         #test if string contains title words\n",
    "print(word.isupper())         #test if string contains upper case\n",
    "print(word.islower())         #test if string contains lower case\n",
    "print(word.isspace())         #check if all char are spaces\n",
    "print(word.endswith('d'))     #test if string endswith a d\n",
    "print(word.startswith('H'))   #test if string startswith H"
   ]
  },
  {
   "cell_type": "code",
   "execution_count": 23,
   "metadata": {},
   "outputs": [
    {
     "name": "stdout",
     "output_type": "stream",
     "text": [
      "My string is empty!!!\n"
     ]
    }
   ],
   "source": [
    "#The pythonic way to check if a string is empty is using the not operator.\n",
    "\n",
    "my_string = ''\n",
    "if not my_string:\n",
    "  print(\"My string is empty!!!\")"
   ]
  },
  {
   "cell_type": "markdown",
   "metadata": {},
   "source": [
    "### Triple Quotes and Long String\n",
    "To handle multiline strings in Python you use triple quotes, either single or double."
   ]
  },
  {
   "cell_type": "code",
   "execution_count": 24,
   "metadata": {},
   "outputs": [
    {
     "name": "stdout",
     "output_type": "stream",
     "text": [
      "This is a multiline,\n",
      "\n",
      "a long string with lots of text,\n",
      "\n",
      "I'm wrapping it in triple quotes to make it work.\n"
     ]
    }
   ],
   "source": [
    "long_text = \"\"\"This is a multiline,\n",
    "\n",
    "a long string with lots of text,\n",
    "\n",
    "I'm wrapping it in triple quotes to make it work.\"\"\"\n",
    "\n",
    "print(long_text)"
   ]
  },
  {
   "cell_type": "code",
   "execution_count": 15,
   "metadata": {},
   "outputs": [
    {
     "name": "stdout",
     "output_type": "stream",
     "text": [
      "This is a multiline, \n",
      "\n",
      "a long string with lots of text \n",
      "\n",
      "I'm using backlashes to make it work.\n"
     ]
    }
   ],
   "source": [
    "long_text = \"This is a multiline, \\n\\n\" \\\n",
    "\"a long string with lots of text \\n\\n\" \\\n",
    "\"I'm using backlashes to make it work.\"\n",
    "print(long_text)"
   ]
  },
  {
   "cell_type": "markdown",
   "metadata": {},
   "source": [
    "There are more ...\n",
    "\n",
    "https://www.w3schools.com/python/python_ref_string.asp"
   ]
  },
  {
   "cell_type": "code",
   "execution_count": null,
   "metadata": {},
   "outputs": [],
   "source": []
  },
  {
   "cell_type": "code",
   "execution_count": null,
   "metadata": {},
   "outputs": [],
   "source": []
  },
  {
   "cell_type": "code",
   "execution_count": null,
   "metadata": {},
   "outputs": [],
   "source": [
    "\n"
   ]
  },
  {
   "cell_type": "code",
   "execution_count": null,
   "metadata": {},
   "outputs": [],
   "source": []
  }
 ],
 "metadata": {
  "kernelspec": {
   "display_name": "Python 3 (ipykernel)",
   "language": "python",
   "name": "python3"
  },
  "language_info": {
   "codemirror_mode": {
    "name": "ipython",
    "version": 3
   },
   "file_extension": ".py",
   "mimetype": "text/x-python",
   "name": "python",
   "nbconvert_exporter": "python",
   "pygments_lexer": "ipython3",
   "version": "3.9.13"
  }
 },
 "nbformat": 4,
 "nbformat_minor": 2
}
